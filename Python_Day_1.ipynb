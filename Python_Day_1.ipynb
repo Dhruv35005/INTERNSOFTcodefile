{
  "nbformat": 4,
  "nbformat_minor": 0,
  "metadata": {
    "kernelspec": {
      "display_name": "Python 3",
      "language": "python",
      "name": "python3"
    },
    "language_info": {
      "codemirror_mode": {
        "name": "ipython",
        "version": 3
      },
      "file_extension": ".py",
      "mimetype": "text/x-python",
      "name": "python",
      "nbconvert_exporter": "python",
      "pygments_lexer": "ipython3",
      "version": "3.7.3"
    },
    "colab": {
      "provenance": []
    }
  },
  "cells": [
    {
      "cell_type": "markdown",
      "metadata": {
        "id": "ovajo5VzFZcl"
      },
      "source": [
        "## Basics of Python"
      ]
    },
    {
      "cell_type": "markdown",
      "metadata": {
        "id": "usWrdNKnFZcl"
      },
      "source": [
        "Python is a high-level, dynamically typed multiparadigm programming language. Python code is often said to be almost like pseudocode, since it allows you to express very powerful ideas in very few lines of code while being very readable. As an example, here is an implementation of the classic quicksort algorithm in Python:"
      ]
    },
    {
      "cell_type": "markdown",
      "metadata": {
        "id": "WCh57KSFFZcm"
      },
      "source": [
        "### Fundamental types"
      ]
    },
    {
      "cell_type": "markdown",
      "metadata": {
        "id": "YtMOP0qpFZcm"
      },
      "source": [
        "### Integers\n",
        "\n",
        "Integer literals are created by any number without a decimal or complex component."
      ]
    },
    {
      "cell_type": "code",
      "metadata": {
        "id": "v3ipAyy7FZcm",
        "colab": {
          "base_uri": "https://localhost:8080/"
        },
        "outputId": "af104e6c-20c6-4726-deac-f8524f40f146"
      },
      "source": [
        "# integers\n",
        "x = 1\n",
        "type(x)"
      ],
      "execution_count": 1,
      "outputs": [
        {
          "output_type": "execute_result",
          "data": {
            "text/plain": [
              "int"
            ]
          },
          "metadata": {},
          "execution_count": 1
        }
      ]
    },
    {
      "cell_type": "markdown",
      "metadata": {
        "id": "jFzgIGBcFZco"
      },
      "source": [
        "### Floats\n",
        "\n",
        "Float literals can be created by adding a decimal component to a number."
      ]
    },
    {
      "cell_type": "code",
      "metadata": {
        "id": "mNPdDU30FZco",
        "colab": {
          "base_uri": "https://localhost:8080/"
        },
        "outputId": "08f62828-598b-48d5-ced9-1452a13d9ccd"
      },
      "source": [
        "# float\n",
        "x = 1.0\n",
        "type(x)\n"
      ],
      "execution_count": 2,
      "outputs": [
        {
          "output_type": "execute_result",
          "data": {
            "text/plain": [
              "float"
            ]
          },
          "metadata": {},
          "execution_count": 2
        }
      ]
    },
    {
      "cell_type": "markdown",
      "metadata": {
        "id": "DiaV5KX-FZco"
      },
      "source": [
        "### Boolean\n",
        "\n",
        "Boolean can be defined by typing True/False without quotes"
      ]
    },
    {
      "cell_type": "code",
      "metadata": {
        "id": "WMBWYHUPFZco",
        "colab": {
          "base_uri": "https://localhost:8080/"
        },
        "outputId": "9b6929b6-7009-4a79-a804-7bb76fee922d"
      },
      "source": [
        "# boolean\n",
        "b1 = True\n",
        "b2 = False\n",
        "\n",
        "type(b1)\n"
      ],
      "execution_count": 3,
      "outputs": [
        {
          "output_type": "execute_result",
          "data": {
            "text/plain": [
              "bool"
            ]
          },
          "metadata": {},
          "execution_count": 3
        }
      ]
    },
    {
      "cell_type": "markdown",
      "metadata": {
        "id": "YQjBQRQEFZco"
      },
      "source": [
        "### Strings\n",
        "\n",
        "String literals can be defined with any of single quotes ('), double quotes (\") or triple quotes (''' or \"\"\"). All give the same result with two important differences.\n",
        "\n",
        "If you quote with single quotes, you do not have to escape double quotes and vice-versa.\n",
        "If you quote with triple quotes, your string can span multiple lines."
      ]
    },
    {
      "cell_type": "code",
      "metadata": {
        "id": "ke5xKUXMFZcp",
        "colab": {
          "base_uri": "https://localhost:8080/"
        },
        "outputId": "a06b0b8c-f2e5-4dea-f33e-31f1edabadf7"
      },
      "source": [
        "# string\n",
        "name = 'Dhruv'\n",
        "type(name)"
      ],
      "execution_count": 4,
      "outputs": [
        {
          "output_type": "execute_result",
          "data": {
            "text/plain": [
              "str"
            ]
          },
          "metadata": {},
          "execution_count": 4
        }
      ]
    },
    {
      "cell_type": "markdown",
      "metadata": {
        "id": "k50f5CY5FZcp"
      },
      "source": [
        "### Complex\n",
        "\n",
        "Complex literals can be created by using the notation x + yj where x is the real component and y is the imaginary component."
      ]
    },
    {
      "cell_type": "code",
      "metadata": {
        "id": "U9hRzsuCFZcp",
        "colab": {
          "base_uri": "https://localhost:8080/"
        },
        "outputId": "b4948e58-00f7-44e3-d64e-d7914275f723"
      },
      "source": [
        "# complex numbers: note the use of `j` to specify the imaginary part\n",
        "x = 1.0 - 2.0j\n",
        "type(x)\n"
      ],
      "execution_count": 6,
      "outputs": [
        {
          "output_type": "execute_result",
          "data": {
            "text/plain": [
              "complex"
            ]
          },
          "metadata": {},
          "execution_count": 6
        }
      ]
    },
    {
      "cell_type": "code",
      "metadata": {
        "scrolled": true,
        "id": "x_eRY9vdFZcp",
        "colab": {
          "base_uri": "https://localhost:8080/"
        },
        "outputId": "25d4abc7-8201-4c73-a185-e7c3c72633df"
      },
      "source": [
        "print(x)"
      ],
      "execution_count": 7,
      "outputs": [
        {
          "output_type": "stream",
          "name": "stdout",
          "text": [
            "(1-2j)\n"
          ]
        }
      ]
    },
    {
      "cell_type": "code",
      "metadata": {
        "scrolled": true,
        "id": "E3dYUf9uFZcp",
        "colab": {
          "base_uri": "https://localhost:8080/"
        },
        "outputId": "8cf4603e-cb26-416c-c082-d44a1c802507"
      },
      "source": [
        "print(x.real, x.imag)"
      ],
      "execution_count": 8,
      "outputs": [
        {
          "output_type": "stream",
          "name": "stdout",
          "text": [
            "1.0 -2.0\n"
          ]
        }
      ]
    },
    {
      "cell_type": "markdown",
      "metadata": {
        "id": "xxuKSrSlFZcq"
      },
      "source": [
        "### Variables\n",
        "\n",
        "#### Definining\n",
        "\n",
        "A variable in Python is defined through assignment. There is no concept of declaring a variable outside of that assignment."
      ]
    },
    {
      "cell_type": "code",
      "metadata": {
        "id": "gVTgdRo7FZcq",
        "colab": {
          "base_uri": "https://localhost:8080/"
        },
        "outputId": "15468fea-1fe3-4fb4-d9f5-098a45fb2422"
      },
      "source": [
        "tenth = 10\n",
        "two = 2\n",
        "print(tenth)\n",
        "two"
      ],
      "execution_count": 10,
      "outputs": [
        {
          "output_type": "stream",
          "name": "stdout",
          "text": [
            "10\n"
          ]
        },
        {
          "output_type": "execute_result",
          "data": {
            "text/plain": [
              "2"
            ]
          },
          "metadata": {},
          "execution_count": 10
        }
      ]
    },
    {
      "cell_type": "markdown",
      "metadata": {
        "id": "UAKD2jJBFZcq"
      },
      "source": [
        "#### Dynamic Typing\n",
        "\n",
        "In Python, while the value that a variable points to has a type, the variable itself has no strict type in its definition. You can re-use the same variable to point to an object of a different type. It may be helpful to think of variables as \"labels\" associated with objects."
      ]
    },
    {
      "cell_type": "code",
      "metadata": {
        "id": "MGG2CblSFZcq",
        "colab": {
          "base_uri": "https://localhost:8080/"
        },
        "outputId": "9196219c-75c7-42a6-8c61-3b672b3bbd38"
      },
      "source": [
        "ten = 10\n",
        "ten"
      ],
      "execution_count": 11,
      "outputs": [
        {
          "output_type": "execute_result",
          "data": {
            "text/plain": [
              "10"
            ]
          },
          "metadata": {},
          "execution_count": 11
        }
      ]
    },
    {
      "cell_type": "code",
      "metadata": {
        "id": "8knbHJcIFZcq",
        "colab": {
          "base_uri": "https://localhost:8080/",
          "height": 35
        },
        "outputId": "3a1d7dbf-5faa-4e90-b25d-dd6678433d85"
      },
      "source": [
        "ten = 'ten'\n",
        "ten"
      ],
      "execution_count": 12,
      "outputs": [
        {
          "output_type": "execute_result",
          "data": {
            "text/plain": [
              "'ten'"
            ],
            "application/vnd.google.colaboratory.intrinsic+json": {
              "type": "string"
            }
          },
          "metadata": {},
          "execution_count": 12
        }
      ]
    },
    {
      "cell_type": "markdown",
      "metadata": {
        "id": "uafx4yLRFZcr"
      },
      "source": [
        "#### Strong Typing\n",
        "\n",
        "While Python allows you to be very flexible with your types, you must still be aware of what those types are. Certain operations will require certain types as arguments."
      ]
    },
    {
      "cell_type": "code",
      "metadata": {
        "id": "tRXemSbxFZcr",
        "colab": {
          "base_uri": "https://localhost:8080/",
          "height": 35
        },
        "outputId": "4fa78c97-8c0a-4ab4-bddb-140a4ca72706"
      },
      "source": [
        "'Day ' + '1'"
      ],
      "execution_count": 14,
      "outputs": [
        {
          "output_type": "execute_result",
          "data": {
            "text/plain": [
              "'Day 1'"
            ],
            "application/vnd.google.colaboratory.intrinsic+json": {
              "type": "string"
            }
          },
          "metadata": {},
          "execution_count": 14
        }
      ]
    },
    {
      "cell_type": "markdown",
      "metadata": {
        "id": "4g__A_oiFZcr"
      },
      "source": [
        "This behavior is different from some other loosely-typed languages. If you were to do the same thing in JavaScript, you would get a different result.\n",
        "\n",
        "In Python, however, it is possible to change the type of an object through builtin functions."
      ]
    },
    {
      "cell_type": "code",
      "metadata": {
        "id": "XhCfevOrFZcr",
        "colab": {
          "base_uri": "https://localhost:8080/",
          "height": 35
        },
        "outputId": "377766e1-036b-4971-ef07-ff62adc682f4"
      },
      "source": [
        "'Day ' + str(1)"
      ],
      "execution_count": 15,
      "outputs": [
        {
          "output_type": "execute_result",
          "data": {
            "text/plain": [
              "'Day 1'"
            ],
            "application/vnd.google.colaboratory.intrinsic+json": {
              "type": "string"
            }
          },
          "metadata": {},
          "execution_count": 15
        }
      ]
    },
    {
      "cell_type": "markdown",
      "metadata": {
        "id": "xMBbjvH8FZcr"
      },
      "source": [
        "## Simple Expressions\n",
        "\n",
        "### Boolean Evaluation\n",
        "\n",
        "Boolean expressions are created with the keywords and, or, not and is. For example:"
      ]
    },
    {
      "cell_type": "code",
      "metadata": {
        "id": "FLUIWJyjFZcr",
        "colab": {
          "base_uri": "https://localhost:8080/"
        },
        "outputId": "58d91771-c068-4437-b3fb-02f45999e090"
      },
      "source": [
        "True and True"
      ],
      "execution_count": 18,
      "outputs": [
        {
          "output_type": "execute_result",
          "data": {
            "text/plain": [
              "True"
            ]
          },
          "metadata": {},
          "execution_count": 18
        }
      ]
    },
    {
      "cell_type": "code",
      "metadata": {
        "id": "pkVXGZkqFZcs"
      },
      "source": [
        "True or False"
      ],
      "execution_count": null,
      "outputs": []
    },
    {
      "cell_type": "code",
      "metadata": {
        "id": "VCb1hzhsFZcs",
        "colab": {
          "base_uri": "https://localhost:8080/"
        },
        "outputId": "7f651bf7-9ca2-4b49-d039-cf30af2e72a7"
      },
      "source": [
        "not True"
      ],
      "execution_count": 19,
      "outputs": [
        {
          "output_type": "execute_result",
          "data": {
            "text/plain": [
              "False"
            ]
          },
          "metadata": {},
          "execution_count": 19
        }
      ]
    },
    {
      "cell_type": "code",
      "metadata": {
        "id": "Rtr822B4FZcs",
        "colab": {
          "base_uri": "https://localhost:8080/"
        },
        "outputId": "521437e5-0902-45ed-b122-4e04cc3892bf"
      },
      "source": [
        "not False"
      ],
      "execution_count": 20,
      "outputs": [
        {
          "output_type": "execute_result",
          "data": {
            "text/plain": [
              "True"
            ]
          },
          "metadata": {},
          "execution_count": 20
        }
      ]
    },
    {
      "cell_type": "code",
      "metadata": {
        "id": "GCothL0RFZcs",
        "colab": {
          "base_uri": "https://localhost:8080/"
        },
        "outputId": "55048d44-bce9-4f19-c9a2-bcc423423f0d"
      },
      "source": [
        "True is True"
      ],
      "execution_count": 21,
      "outputs": [
        {
          "output_type": "execute_result",
          "data": {
            "text/plain": [
              "True"
            ]
          },
          "metadata": {},
          "execution_count": 21
        }
      ]
    },
    {
      "cell_type": "code",
      "metadata": {
        "id": "PQ6aJ3OQFZcs",
        "colab": {
          "base_uri": "https://localhost:8080/"
        },
        "outputId": "bbf12a77-05f0-4023-e9ba-dac6532513ee"
      },
      "source": [
        "True is False"
      ],
      "execution_count": 22,
      "outputs": [
        {
          "output_type": "execute_result",
          "data": {
            "text/plain": [
              "False"
            ]
          },
          "metadata": {},
          "execution_count": 22
        }
      ]
    },
    {
      "cell_type": "code",
      "metadata": {
        "id": "Vh_MnuvcFZcs",
        "colab": {
          "base_uri": "https://localhost:8080/"
        },
        "outputId": "4c936563-8bbb-438b-ad14-3e47823bf281"
      },
      "source": [
        "'a' is 'a'"
      ],
      "execution_count": 23,
      "outputs": [
        {
          "output_type": "stream",
          "name": "stderr",
          "text": [
            "<>:1: SyntaxWarning: \"is\" with a literal. Did you mean \"==\"?\n",
            "<>:1: SyntaxWarning: \"is\" with a literal. Did you mean \"==\"?\n",
            "<ipython-input-23-e2fa3e0bad77>:1: SyntaxWarning: \"is\" with a literal. Did you mean \"==\"?\n",
            "  'a' is 'a'\n"
          ]
        },
        {
          "output_type": "execute_result",
          "data": {
            "text/plain": [
              "True"
            ]
          },
          "metadata": {},
          "execution_count": 23
        }
      ]
    },
    {
      "cell_type": "markdown",
      "metadata": {
        "id": "1d7YPgvOFZct"
      },
      "source": [
        "## Branching (if / elif / else)\n",
        "\n",
        "Python provides the if statement to allow branching based on conditions. Multiple elif checks can also be performed followed by an optional else clause. The if statement can be used with any evaluation of truthiness."
      ]
    },
    {
      "cell_type": "code",
      "metadata": {
        "id": "jccw_P10FZct",
        "colab": {
          "base_uri": "https://localhost:8080/"
        },
        "outputId": "9de9ee4b-84f2-4229-d504-e40649caf336"
      },
      "source": [
        "i = 6\n",
        "if i < 3:\n",
        "    print('less than 3')\n",
        "elif i < 5:\n",
        "    print('less than 5')\n",
        "else:\n",
        "    print('5 or more')"
      ],
      "execution_count": 36,
      "outputs": [
        {
          "output_type": "stream",
          "name": "stdout",
          "text": [
            "5 or more\n"
          ]
        }
      ]
    },
    {
      "cell_type": "code",
      "metadata": {
        "id": "xY0FQY7vFZct",
        "colab": {
          "base_uri": "https://localhost:8080/"
        },
        "outputId": "516532a2-9445-4e17-9dde-66fb855d0bba"
      },
      "source": [
        "j = 8\n",
        "if j < 5:\n",
        "    print('less than 3')\n",
        "elif j < 7:\n",
        "    print('less than 7')\n",
        "else:\n",
        "    print('7 or more')"
      ],
      "execution_count": 43,
      "outputs": [
        {
          "output_type": "stream",
          "name": "stdout",
          "text": [
            "7 or more\n"
          ]
        }
      ]
    },
    {
      "cell_type": "markdown",
      "metadata": {
        "id": "aNjGbJy6FZct"
      },
      "source": [
        "## Block Structure and Whitespace\n",
        "\n",
        "The code that is executed when a specific condition is met is defined in a \"block.\" In Python, the block structure is signalled by changes in indentation. Each line of code in a certain block level must be indented equally and indented more than the surrounding scope. The standard (defined in PEP-8) is to use 4 spaces for each level of block indentation. Statements preceding blocks generally end with a colon (:).\n",
        "\n",
        "Because there are no semi-colons or other end-of-line indicators in Python, breaking lines of code requires either a continuation character (\\ as the last char) or for the break to occur inside an unfinished structure (such as open parentheses).\n",
        "\n"
      ]
    },
    {
      "cell_type": "markdown",
      "metadata": {
        "id": "EyRdZ61IFZct"
      },
      "source": [
        "## Advanced Types: Containers\n",
        "\n",
        "One of the great advantages of Python as a programming language is the ease with which it allows you to manipulate containers. Containers (or collections) are an integral part of the language and, as you’ll see, built in to the core of the language’s syntax. As a result, thinking in a Pythonic manner means thinking about containers.\n",
        "\n",
        "### Lists\n",
        "\n",
        "The first container type that we will look at is the list. A list represents an ordered, mutable collection of objects. You can mix and match any type of object in a list, add to it and remove from it at will.\n",
        "\n",
        "Creating Empty Lists. To create an empty list, you can use empty square brackets or use the list() function with no arguments.\n",
        "\n"
      ]
    },
    {
      "cell_type": "code",
      "metadata": {
        "id": "jG7VFXSUFZct"
      },
      "source": [
        "l = []\n",
        "l"
      ],
      "execution_count": null,
      "outputs": []
    },
    {
      "cell_type": "code",
      "metadata": {
        "id": "t6N9EY3ZFZct"
      },
      "source": [
        "l = list()\n",
        "l"
      ],
      "execution_count": null,
      "outputs": []
    },
    {
      "cell_type": "markdown",
      "metadata": {
        "id": "uxQiAM4WFZcu"
      },
      "source": [
        "Initializing Lists. You can initialize a list with content of any sort using the same square bracket notation. The list() function also takes an iterable as a single argument and returns a shallow copy of that iterable as a new list. A list is one such iterable as we’ll see soon, and we’ll see others later."
      ]
    },
    {
      "cell_type": "code",
      "metadata": {
        "id": "5XCJoyOOFZcu",
        "colab": {
          "base_uri": "https://localhost:8080/"
        },
        "outputId": "351e81cc-415d-4a74-d7e9-3487f41281bd"
      },
      "source": [
        "l = ['a','b','c']\n",
        "print(l)\n",
        "type(l)"
      ],
      "execution_count": 46,
      "outputs": [
        {
          "output_type": "stream",
          "name": "stdout",
          "text": [
            "['a', 'b', 'c']\n"
          ]
        },
        {
          "output_type": "execute_result",
          "data": {
            "text/plain": [
              "list"
            ]
          },
          "metadata": {},
          "execution_count": 46
        }
      ]
    },
    {
      "cell_type": "code",
      "metadata": {
        "id": "lC6EvjQKFZcu",
        "colab": {
          "base_uri": "https://localhost:8080/"
        },
        "outputId": "b8bcf227-eb4c-472b-ed8c-31e8d59a0550"
      },
      "source": [
        "l = ['a',6]\n",
        "l"
      ],
      "execution_count": 48,
      "outputs": [
        {
          "output_type": "execute_result",
          "data": {
            "text/plain": [
              "['a', 6]"
            ]
          },
          "metadata": {},
          "execution_count": 48
        }
      ]
    },
    {
      "cell_type": "code",
      "metadata": {
        "id": "fogzg2lIFZcu",
        "colab": {
          "base_uri": "https://localhost:8080/"
        },
        "outputId": "69294986-4390-4b8e-dc04-1f4842fd3a23"
      },
      "source": [
        "l2 = list(l)\n",
        "l2\n"
      ],
      "execution_count": 49,
      "outputs": [
        {
          "output_type": "execute_result",
          "data": {
            "text/plain": [
              "['a', 6]"
            ]
          },
          "metadata": {},
          "execution_count": 49
        }
      ]
    },
    {
      "cell_type": "markdown",
      "metadata": {
        "id": "d9fTX_NbFZcu"
      },
      "source": [
        "A Python string is also a sequence of characters and can be treated as an iterable over those characters. Combined with the list() function, a new list of the characters can easily be generated."
      ]
    },
    {
      "cell_type": "code",
      "metadata": {
        "id": "n4NBFIfyFZcu",
        "colab": {
          "base_uri": "https://localhost:8080/"
        },
        "outputId": "b83410d3-0a21-4e09-bbf8-a1add86fd08a"
      },
      "source": [
        "list('abcdef')"
      ],
      "execution_count": 50,
      "outputs": [
        {
          "output_type": "execute_result",
          "data": {
            "text/plain": [
              "['a', 'b', 'c', 'd', 'e', 'f']"
            ]
          },
          "metadata": {},
          "execution_count": 50
        }
      ]
    },
    {
      "cell_type": "markdown",
      "metadata": {
        "id": "LeMxIUWbFZcu"
      },
      "source": [
        "Adding. You can append to a list very easily (add to the end) or insert at an arbitrary index."
      ]
    },
    {
      "cell_type": "code",
      "metadata": {
        "id": "oQKKCJ1IFZcv",
        "colab": {
          "base_uri": "https://localhost:8080/"
        },
        "outputId": "94423f52-7a58-403e-f07c-c322e0be749f"
      },
      "source": [
        "l = [1,2]\n",
        "print(l)\n",
        "l.append('b')\n",
        "print(l)\n",
        "l.append('c')\n",
        "print(l)\n",
        "l.insert(1, 56)\n",
        "l"
      ],
      "execution_count": 51,
      "outputs": [
        {
          "output_type": "stream",
          "name": "stdout",
          "text": [
            "[1, 2]\n",
            "[1, 2, 'b']\n",
            "[1, 2, 'b', 'c']\n"
          ]
        },
        {
          "output_type": "execute_result",
          "data": {
            "text/plain": [
              "[1, 56, 2, 'b', 'c']"
            ]
          },
          "metadata": {},
          "execution_count": 51
        }
      ]
    },
    {
      "cell_type": "markdown",
      "metadata": {
        "id": "Aj9wbjEiFZcv"
      },
      "source": [
        "Iterating. Iterating over a list is very simple. All iterables in Python allow access to elements using the for ... in statement. In this structure, each element in the iterable is sequentially assigned to the \"loop variable\" for a single pass of the loop, during which the enclosed block is executed."
      ]
    },
    {
      "cell_type": "code",
      "metadata": {
        "id": "EPi8VMJXFZcv",
        "colab": {
          "base_uri": "https://localhost:8080/"
        },
        "outputId": "fcfdac08-5cc9-4d02-cffb-d7a8d2a7adfd"
      },
      "source": [
        "for i in l:\n",
        "    print(i)"
      ],
      "execution_count": 52,
      "outputs": [
        {
          "output_type": "stream",
          "name": "stdout",
          "text": [
            "1\n",
            "56\n",
            "2\n",
            "b\n",
            "c\n"
          ]
        }
      ]
    },
    {
      "cell_type": "markdown",
      "metadata": {
        "id": "LFx7YHMEFZcv"
      },
      "source": [
        "## Loops\n",
        "\n",
        "In general, statements are executed sequentially: The first statement in a function is executed first, followed by the second, and so on. There may be a situation when you need to execute a block of code several number of times.\n",
        "\n",
        "Programming languages provide various control structures that allow for more complicated execution paths.\n",
        "\n",
        "### For loop\n",
        "\n",
        "The for loop in Python is used to iterate over a sequence (list, tuple, string) or other iterable objects. Iterating over a sequence is called traversal.\n",
        "\n",
        "Loop continues until we reach the last item in the sequence. The body of for loop is separated from the rest of the code using indentation.\n",
        "\n",
        "\n",
        "<img src=\"Images/forLoop.jpg\">"
      ]
    },
    {
      "cell_type": "code",
      "metadata": {
        "id": "777uWCQHFZcv",
        "colab": {
          "base_uri": "https://localhost:8080/"
        },
        "outputId": "5f1a60d0-05d4-4273-c6a5-592dacdd8e53"
      },
      "source": [
        "# Program to find the sum of all numbers stored in a list\n",
        "\n",
        "# List of numbers\n",
        "numbers = [6,3,2,7,3,8,9,1]\n",
        "# variable to store the sum\n",
        "sum = 0\n",
        "# iterate over the list\n",
        "for i in numbers:\n",
        "  sum = sum + i\n",
        "\n",
        "# Output: The sum is 39\n",
        "print(\"The sum is\", sum)\n",
        "sum\n"
      ],
      "execution_count": 53,
      "outputs": [
        {
          "output_type": "stream",
          "name": "stdout",
          "text": [
            "The sum is 39\n"
          ]
        },
        {
          "output_type": "execute_result",
          "data": {
            "text/plain": [
              "39"
            ]
          },
          "metadata": {},
          "execution_count": 53
        }
      ]
    },
    {
      "cell_type": "markdown",
      "metadata": {
        "id": "88s0inqtFZcv"
      },
      "source": [
        "### for loop with else\n",
        "A for loop can have an optional else block as well. The else part is executed if the items in the sequence used in for loop exhausts.\n",
        "\n",
        "break statement can be used to stop a for loop. In such case, the else part is ignored.\n",
        "\n",
        "Hence, a for loop's else part runs if no break occurs.\n",
        "\n",
        "Here is an example to illustrate this."
      ]
    },
    {
      "cell_type": "code",
      "metadata": {
        "id": "atXhlKbPFZcv",
        "colab": {
          "base_uri": "https://localhost:8080/"
        },
        "outputId": "d1405cf7-1f19-401f-ee99-a5452bd9b1d0"
      },
      "source": [
        "digits = [1,6,3]\n",
        "\n",
        "for i in digits:\n",
        "  print(i)\n",
        "else:\n",
        "  print(\"No items left.\")"
      ],
      "execution_count": 54,
      "outputs": [
        {
          "output_type": "stream",
          "name": "stdout",
          "text": [
            "1\n",
            "6\n",
            "3\n",
            "No items left.\n"
          ]
        }
      ]
    },
    {
      "cell_type": "markdown",
      "metadata": {
        "id": "Lv8IQTI-FZcw"
      },
      "source": [
        "## While loop\n",
        "\n",
        "The while loop in Python is used to iterate over a block of code as long as the test expression (condition) is true.\n",
        "\n",
        "We generally use this loop when we don't know beforehand, the number of times to iterate.\n",
        "\n",
        "In while loop, test expression is checked first. The body of the loop is entered only if the test_expression evaluates to True. After one iteration, the test expression is checked again. This process continues until the test_expression evaluates to False.\n",
        "\n",
        "In Python, the body of the while loop is determined through indentation.\n",
        "\n",
        "Body starts with indentation and the first unindented line marks the end.\n",
        "\n",
        "Python interprets any non-zero value as True. None and 0 are interpreted as False.\n",
        "\n",
        "<img src=\"Images/whileLoopFlowchart.jpg\">\n"
      ]
    },
    {
      "cell_type": "code",
      "metadata": {
        "id": "QNPESe-4FZcw",
        "colab": {
          "base_uri": "https://localhost:8080/"
        },
        "outputId": "8cf60f32-ed2a-4229-818a-30a0ba27a01a"
      },
      "source": [
        "# Program to add natural\n",
        "# numbers upto\n",
        "# sum = 1+2+3+...+n\n",
        "\n",
        "# To take input from the user,\n",
        "n = int(input(\"Enter n: \"))\n",
        "\n",
        "# initialize sum and counter\n",
        "sum = 0\n",
        "i = 1\n",
        "\n",
        "while i <= n:\n",
        "    sum = sum + i\n",
        "    i = i+1 # update counter\n",
        "\n",
        "# print the sum\n",
        "print(\"The sum is\", sum)"
      ],
      "execution_count": 63,
      "outputs": [
        {
          "output_type": "stream",
          "name": "stdout",
          "text": [
            "Enter n: 65\n",
            "The sum is 2145\n"
          ]
        }
      ]
    },
    {
      "cell_type": "markdown",
      "metadata": {
        "id": "LGikVB2VFZcw"
      },
      "source": [
        "## The range() function\n",
        "We can generate a sequence of numbers using range() function. range(10) will generate numbers from 0 to 9 (10 numbers).\n",
        "\n",
        "We can also define the start, stop and step size as range(start,stop,step size). step size defaults to 1 if not provided.\n",
        "\n",
        "This function does not store all the values in memory, it would be inefficient. So it remembers the start, stop, step size and generates the next number on the go.\n",
        "\n",
        "To force this function to output all the items, we can use the function list().\n",
        "\n",
        "The following example will clarify this."
      ]
    },
    {
      "cell_type": "code",
      "metadata": {
        "id": "SjEyDteMFZcw",
        "colab": {
          "base_uri": "https://localhost:8080/"
        },
        "outputId": "180b9aae-4a75-4d23-d246-43122b782553"
      },
      "source": [
        "print(range(10))"
      ],
      "execution_count": 64,
      "outputs": [
        {
          "output_type": "stream",
          "name": "stdout",
          "text": [
            "range(0, 10)\n"
          ]
        }
      ]
    },
    {
      "cell_type": "code",
      "metadata": {
        "id": "FErgLjKRFZcw",
        "colab": {
          "base_uri": "https://localhost:8080/"
        },
        "outputId": "55f95b52-8f28-48b3-b356-1283152e929f"
      },
      "source": [
        "print(list(range(10)))"
      ],
      "execution_count": 65,
      "outputs": [
        {
          "output_type": "stream",
          "name": "stdout",
          "text": [
            "[0, 1, 2, 3, 4, 5, 6, 7, 8, 9]\n"
          ]
        }
      ]
    },
    {
      "cell_type": "code",
      "metadata": {
        "id": "nsYVnTODFZcw",
        "colab": {
          "base_uri": "https://localhost:8080/"
        },
        "outputId": "2accee54-dcfb-4cbd-f81e-6f8e694f9969"
      },
      "source": [
        "print(list(range(2,8)))"
      ],
      "execution_count": 66,
      "outputs": [
        {
          "output_type": "stream",
          "name": "stdout",
          "text": [
            "[2, 3, 4, 5, 6, 7]\n"
          ]
        }
      ]
    },
    {
      "cell_type": "code",
      "metadata": {
        "id": "f4Vt508hFZcw",
        "colab": {
          "base_uri": "https://localhost:8080/"
        },
        "outputId": "1a8767ff-90b9-4c6f-d0cd-634fbc7fd293"
      },
      "source": [
        "print(list(range(2,20,5)))"
      ],
      "execution_count": 67,
      "outputs": [
        {
          "output_type": "stream",
          "name": "stdout",
          "text": [
            "[2, 7, 12, 17]\n"
          ]
        }
      ]
    },
    {
      "cell_type": "markdown",
      "metadata": {
        "id": "P4ntgUm6FZcw"
      },
      "source": [
        "We can use the range() function in for loops to iterate through a sequence of numbers. It can be combined with the len() function to iterate though a sequence using indexing. Here is an example."
      ]
    },
    {
      "cell_type": "code",
      "metadata": {
        "id": "RGrqWa3YFZcx",
        "colab": {
          "base_uri": "https://localhost:8080/"
        },
        "outputId": "4911ba30-8bc6-46cd-bc7f-d2ae9f1f994e"
      },
      "source": [
        "# Program to iterate through a list using indexing\n",
        "\n",
        "genre = ['pop', 'rock', 'edm', 'lofi']\n",
        "\n",
        "# iterate over the list using index\n",
        "for i in range(len(genre)):\n",
        "  print(\"I like\", genre[i])"
      ],
      "execution_count": 68,
      "outputs": [
        {
          "output_type": "stream",
          "name": "stdout",
          "text": [
            "I like pop\n",
            "I like rock\n",
            "I like edm\n",
            "I like lofi\n"
          ]
        }
      ]
    },
    {
      "cell_type": "markdown",
      "metadata": {
        "id": "H-7XxHBhFZcx"
      },
      "source": [
        "## break and continue statement\n",
        "\n",
        "In Python, break and continue statements can alter the flow of a normal loop.\n",
        "\n",
        "Loops iterate over a block of code until test expression is false, but sometimes we wish to terminate the current iteration or even the whole loop without cheking test expression.\n",
        "\n",
        "The break and continue statements are used in these cases.\n",
        "\n",
        "### break\n",
        "The break statement terminates the loop containing it. Control of the program flows to the statement immediately after the body of the loop.\n",
        "\n",
        "If break statement is inside a nested loop (loop inside another loop), break will terminate the innermost loop.\n",
        "\n",
        "\n",
        "\n",
        "<img src=\"Images/flowchart-break-statement.jpg\">"
      ]
    },
    {
      "cell_type": "code",
      "metadata": {
        "id": "ZOomPD5mFZcx",
        "colab": {
          "base_uri": "https://localhost:8080/"
        },
        "outputId": "c008a1f0-67dd-4fb7-8b41-be39a9d06e91"
      },
      "source": [
        "# Use of break statement inside loop\n",
        "\n",
        "for val in \"HARSHITHA\":\n",
        "  if val == \"I\":\n",
        "      break\n",
        "  print(val)\n",
        "\n",
        "print(\"The end\")"
      ],
      "execution_count": 69,
      "outputs": [
        {
          "output_type": "stream",
          "name": "stdout",
          "text": [
            "H\n",
            "A\n",
            "R\n",
            "S\n",
            "H\n",
            "The end\n"
          ]
        }
      ]
    },
    {
      "cell_type": "markdown",
      "metadata": {
        "id": "6kiuC-XvFZcx"
      },
      "source": [
        "In this program, we iterate through the \"string\" sequence. We check if the letter is \"i\", upon which we break from the loop. Hence, we see in our output that all the letters up till \"i\" gets printed. After that, the loop terminates."
      ]
    },
    {
      "cell_type": "markdown",
      "metadata": {
        "id": "0bRB1xRSFZcx"
      },
      "source": [
        "### continue\n",
        "The continue statement is used to skip the rest of the code inside a loop for the current iteration only. Loop does not terminate but continues on with the next iteration.\n",
        "\n",
        "<img src=\"Images/continue-statement-flowchart.jpg\">"
      ]
    },
    {
      "cell_type": "code",
      "metadata": {
        "id": "D600eS2BFZcx",
        "colab": {
          "base_uri": "https://localhost:8080/"
        },
        "outputId": "d2d81e6d-e637-412c-fa2d-3e76b3283482"
      },
      "source": [
        "# Program to show the use of continue statement inside loops\n",
        "\n",
        "for val in \"HARSHITHA\":\n",
        "  if val == \"I\":\n",
        "      continue\n",
        "  print(val)\n",
        "\n",
        "print(\"The end\")"
      ],
      "execution_count": 70,
      "outputs": [
        {
          "output_type": "stream",
          "name": "stdout",
          "text": [
            "H\n",
            "A\n",
            "R\n",
            "S\n",
            "H\n",
            "T\n",
            "H\n",
            "A\n",
            "The end\n"
          ]
        }
      ]
    },
    {
      "cell_type": "markdown",
      "metadata": {
        "id": "iYQWwzJLFZcy"
      },
      "source": [
        "This program is same as the above example except the break statement has been replaced with continue.\n",
        "\n",
        "We continue with the loop, if the string is \"i\", not executing the rest of the block. Hence, we see in our output that all the letters except \"i\" gets printed."
      ]
    },
    {
      "cell_type": "markdown",
      "metadata": {
        "collapsed": true,
        "id": "cdZjCvzeFZcy"
      },
      "source": [
        "my own work.........."
      ]
    },
    {
      "cell_type": "code",
      "metadata": {
        "id": "fT_Fhap1FZcy",
        "outputId": "c32f82f0-8f4e-49b9-b4a5-b49ae1c8c06b",
        "colab": {
          "base_uri": "https://localhost:8080/"
        }
      },
      "source": [
        "# Program to take the input string from the user.\n",
        "\n",
        "name = input(\"What is your name?\\n\")\n",
        "type(name)\n"
      ],
      "execution_count": 71,
      "outputs": [
        {
          "name": "stdout",
          "output_type": "stream",
          "text": [
            "What is your name?\n",
            "Dhruv\n"
          ]
        },
        {
          "output_type": "execute_result",
          "data": {
            "text/plain": [
              "str"
            ]
          },
          "metadata": {},
          "execution_count": 71
        }
      ]
    },
    {
      "cell_type": "code",
      "metadata": {
        "id": "rr_fofQNFZcz",
        "outputId": "a4b24059-3a47-4397-cf2b-800b185f1907",
        "colab": {
          "base_uri": "https://localhost:8080/"
        }
      },
      "source": [
        "# Program to read integers from user\n",
        "\n",
        "age = input(\"What is your age? \")\n",
        "print(\"Your age is: \", age)\n",
        "type(age)\n"
      ],
      "execution_count": 72,
      "outputs": [
        {
          "output_type": "stream",
          "name": "stdout",
          "text": [
            "What is your age? 23\n",
            "Your age is:  23\n"
          ]
        },
        {
          "output_type": "execute_result",
          "data": {
            "text/plain": [
              "str"
            ]
          },
          "metadata": {},
          "execution_count": 72
        }
      ]
    },
    {
      "cell_type": "code",
      "metadata": {
        "id": "RRCNLFI6FZcz",
        "outputId": "b5bb73a6-e051-4eb3-d842-ebfeb6ad3f74",
        "colab": {
          "base_uri": "https://localhost:8080/"
        }
      },
      "source": [
        "# Let's have one more example\n",
        "name = input(\"What is your name? \")\n",
        "print(\"It was nice talking to you \" + name + \"!\")\n",
        "age = input(\"Enter your age? \")\n",
        "print(\"Hey, you are already \" + age + \" years old, \" + name + \"!\")\n",
        "\n"
      ],
      "execution_count": 73,
      "outputs": [
        {
          "output_type": "stream",
          "name": "stdout",
          "text": [
            "What is your name? Dhruv\n",
            "It was nice talking to you Dhruv!\n",
            "Enter your age? 23\n",
            "Hey, you are already 23 years old, Dhruv!\n"
          ]
        }
      ]
    },
    {
      "cell_type": "code",
      "metadata": {
        "id": "juEe0uVFFZc0"
      },
      "source": [],
      "execution_count": null,
      "outputs": []
    }
  ]
}